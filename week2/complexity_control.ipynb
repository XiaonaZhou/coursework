{
 "cells": [
  {
   "cell_type": "markdown",
   "metadata": {
    "toc": "true"
   },
   "source": [
    "# Table of Contents\n",
    " <p><div class=\"lev1 toc-item\"><a href=\"#Setup\" data-toc-modified-id=\"Setup-1\"><span class=\"toc-item-num\">1&nbsp;&nbsp;</span>Setup</a></div><div class=\"lev1 toc-item\"><a href=\"#Cross-validation\" data-toc-modified-id=\"Cross-validation-2\"><span class=\"toc-item-num\">2&nbsp;&nbsp;</span>Cross-validation</a></div><div class=\"lev1 toc-item\"><a href=\"#K-fold-cross-validation\" data-toc-modified-id=\"K-fold-cross-validation-3\"><span class=\"toc-item-num\">3&nbsp;&nbsp;</span>K-fold cross-validation</a></div>"
   ]
  },
  {
   "cell_type": "markdown",
   "metadata": {},
   "source": [
    "# Setup\n",
    "\n",
    "First we'll load some packages, including the recent `modelr` for easy modeling, setting options to warn us whenever observations with missing values are ignored by our models."
   ]
  },
  {
   "cell_type": "code",
   "execution_count": 50,
   "metadata": {},
   "outputs": [
    {
     "name": "stderr",
     "output_type": "stream",
     "text": [
      "Warning message in RNGkind(sample.kind = \"Rounding\"):\n",
      "\"non-uniform 'Rounding' sampler used\""
     ]
    }
   ],
   "source": [
    "RNGkind(sample.kind = \"Rounding\")\n",
    "library(tidyverse)\n",
    "library(scales)\n",
    "library(modelr)\n",
    "\n",
    "theme_set(theme_bw())\n",
    "options(repr.plot.width=4, repr.plot.height=3)"
   ]
  },
  {
   "cell_type": "markdown",
   "metadata": {},
   "source": [
    "Then we'll load a data frame of the number of total trips taken by Citibike riders for each day in 2014, along with the weather on each day."
   ]
  },
  {
   "cell_type": "code",
   "execution_count": 51,
   "metadata": {},
   "outputs": [
    {
     "name": "stderr",
     "output_type": "stream",
     "text": [
      "Parsed with column specification:\n",
      "cols(\n",
      "  ymd = col_date(format = \"\"),\n",
      "  num_trips = col_double(),\n",
      "  date = col_double(),\n",
      "  prcp = col_double(),\n",
      "  snwd = col_double(),\n",
      "  snow = col_double(),\n",
      "  tmax = col_double(),\n",
      "  tmin = col_double()\n",
      ")\n"
     ]
    },
    {
     "data": {
      "text/html": [
       "<table>\n",
       "<thead><tr><th scope=col>ymd</th><th scope=col>num_trips</th><th scope=col>date</th><th scope=col>prcp</th><th scope=col>snwd</th><th scope=col>snow</th><th scope=col>tmax</th><th scope=col>tmin</th></tr></thead>\n",
       "<tbody>\n",
       "\t<tr><td>2014-01-01</td><td>6059      </td><td>20140101  </td><td>0.00      </td><td>0.0       </td><td>0.0       </td><td>3.3       </td><td>2.4       </td></tr>\n",
       "\t<tr><td>2014-01-02</td><td>8600      </td><td>20140102  </td><td>0.33      </td><td>0.0       </td><td>3.1       </td><td>3.3       </td><td>1.8       </td></tr>\n",
       "\t<tr><td>2014-01-03</td><td>1144      </td><td>20140103  </td><td>0.29      </td><td>5.9       </td><td>3.3       </td><td>1.8       </td><td>0.9       </td></tr>\n",
       "\t<tr><td>2014-01-04</td><td>2292      </td><td>20140104  </td><td>0.00      </td><td>5.9       </td><td>0.0       </td><td>2.9       </td><td>0.8       </td></tr>\n",
       "\t<tr><td>2014-01-05</td><td>2678      </td><td>20140105  </td><td>0.14      </td><td>3.9       </td><td>0.0       </td><td>4.0       </td><td>2.7       </td></tr>\n",
       "\t<tr><td>2014-01-06</td><td>9510      </td><td>20140106  </td><td>0.36      </td><td>1.2       </td><td>0.0       </td><td>5.5       </td><td>1.9       </td></tr>\n",
       "</tbody>\n",
       "</table>\n"
      ],
      "text/latex": [
       "\\begin{tabular}{r|llllllll}\n",
       " ymd & num\\_trips & date & prcp & snwd & snow & tmax & tmin\\\\\n",
       "\\hline\n",
       "\t 2014-01-01 & 6059       & 20140101   & 0.00       & 0.0        & 0.0        & 3.3        & 2.4       \\\\\n",
       "\t 2014-01-02 & 8600       & 20140102   & 0.33       & 0.0        & 3.1        & 3.3        & 1.8       \\\\\n",
       "\t 2014-01-03 & 1144       & 20140103   & 0.29       & 5.9        & 3.3        & 1.8        & 0.9       \\\\\n",
       "\t 2014-01-04 & 2292       & 20140104   & 0.00       & 5.9        & 0.0        & 2.9        & 0.8       \\\\\n",
       "\t 2014-01-05 & 2678       & 20140105   & 0.14       & 3.9        & 0.0        & 4.0        & 2.7       \\\\\n",
       "\t 2014-01-06 & 9510       & 20140106   & 0.36       & 1.2        & 0.0        & 5.5        & 1.9       \\\\\n",
       "\\end{tabular}\n"
      ],
      "text/markdown": [
       "\n",
       "| ymd | num_trips | date | prcp | snwd | snow | tmax | tmin |\n",
       "|---|---|---|---|---|---|---|---|\n",
       "| 2014-01-01 | 6059       | 20140101   | 0.00       | 0.0        | 0.0        | 3.3        | 2.4        |\n",
       "| 2014-01-02 | 8600       | 20140102   | 0.33       | 0.0        | 3.1        | 3.3        | 1.8        |\n",
       "| 2014-01-03 | 1144       | 20140103   | 0.29       | 5.9        | 3.3        | 1.8        | 0.9        |\n",
       "| 2014-01-04 | 2292       | 20140104   | 0.00       | 5.9        | 0.0        | 2.9        | 0.8        |\n",
       "| 2014-01-05 | 2678       | 20140105   | 0.14       | 3.9        | 0.0        | 4.0        | 2.7        |\n",
       "| 2014-01-06 | 9510       | 20140106   | 0.36       | 1.2        | 0.0        | 5.5        | 1.9        |\n",
       "\n"
      ],
      "text/plain": [
       "  ymd        num_trips date     prcp snwd snow tmax tmin\n",
       "1 2014-01-01 6059      20140101 0.00 0.0  0.0  3.3  2.4 \n",
       "2 2014-01-02 8600      20140102 0.33 0.0  3.1  3.3  1.8 \n",
       "3 2014-01-03 1144      20140103 0.29 5.9  3.3  1.8  0.9 \n",
       "4 2014-01-04 2292      20140104 0.00 5.9  0.0  2.9  0.8 \n",
       "5 2014-01-05 2678      20140105 0.14 3.9  0.0  4.0  2.7 \n",
       "6 2014-01-06 9510      20140106 0.36 1.2  0.0  5.5  1.9 "
      ]
     },
     "metadata": {},
     "output_type": "display_data"
    }
   ],
   "source": [
    "trips_per_day <- read_tsv('trips_per_day.tsv')\n",
    "head(trips_per_day)"
   ]
  },
  {
   "cell_type": "markdown",
   "metadata": {},
   "source": [
    "Let's plot the number of trips taken as a function of the minimum temperature on each day."
   ]
  },
  {
   "cell_type": "code",
   "execution_count": 52,
   "metadata": {},
   "outputs": [
    {
     "data": {
      "image/png": "[encoded data removed]",
      "text/plain": [
       "plot without title"
      ]
     },
     "metadata": {},
     "output_type": "display_data"
    }
   ],
   "source": [
    "ggplot(trips_per_day, aes(x = tmin, y = num_trips)) +\n",
    "  geom_point() +\n",
    "  xlab('Minimum temperature') +\n",
    "  ylab('Daily trips') +\n",
    "  scale_y_continuous()"
   ]
  },
  {
   "cell_type": "markdown",
   "metadata": {},
   "source": [
    "# Cross-validation\n",
    "\n",
    "Now we'll try fitting different polynomials to this data, and use cross-validation to find the polynomial degree that generalizes best to held out data.\n",
    "\n",
    "First we'll shuffle the data and make an 80% train and 20% validation split."
   ]
  },
  {
   "cell_type": "code",
   "execution_count": 53,
   "metadata": {},
   "outputs": [],
   "source": [
    "\n",
    "set.seed(42)\n",
    "\n",
    "num_days <- nrow(trips_per_day)\n",
    "frac_train <- 0.8\n",
    "num_train <- floor(num_days * frac_train)\n",
    "\n",
    "# randomly sample rows for the training set \n",
    "ndx <- sample(1:num_days, num_train, replace=F)\n",
    "\n",
    "# used to fit the model\n",
    "trips_per_day_train <- trips_per_day[ndx, ]\n",
    "\n",
    "# used to evaluate the fit\n",
    "trips_per_day_validate <- trips_per_day[-ndx, ]"
   ]
  },
  {
   "cell_type": "markdown",
   "metadata": {},
   "source": [
    "Now we'll evaluate models from degree 1 up through degree 8.\n",
    "For each we'll fit on the training data and evaluate on the validation data."
   ]
  },
  {
   "cell_type": "code",
   "execution_count": 54,
   "metadata": {},
   "outputs": [],
   "source": [
    "# fit a model for each polynomial degree\n",
    "K <- 1:8\n",
    "train_err <- c()\n",
    "validate_err <- c()\n",
    "for (k in K) {\n",
    "  \n",
    "    # fit on the training data\n",
    "    model <- lm(num_trips ~ poly(tmin, k, raw = T), data=trips_per_day_train)\n",
    "    \n",
    "    # evaluate on the training data\n",
    "    train_err[k] <- sqrt(mean((predict(model, trips_per_day_train) - trips_per_day_train$num_trips)^2))\n",
    "\n",
    "    # evaluate on the validate data\n",
    "    validate_err[k] <- sqrt(mean((predict(model, trips_per_day_validate) - trips_per_day_validate$num_trips)^2))\n",
    "}"
   ]
  },
  {
   "cell_type": "markdown",
   "metadata": {},
   "source": [
    "Now we'll plot the training and validation error as a function of the polynomial degree."
   ]
  },
  {
   "cell_type": "code",
   "execution_count": 55,
   "metadata": {},
   "outputs": [
    {
     "data": {
      "image/png": "[encoded data removed]",
      "text/plain": [
       "plot without title"
      ]
     },
     "metadata": {},
     "output_type": "display_data"
    }
   ],
   "source": [
    "plot_data <- data.frame(K, train_err, validate_err) %>%\n",
    "  gather(\"split\", \"error\", -K)\n",
    "\n",
    "ggplot(plot_data, aes(x=K, y=error, color=split)) +\n",
    "  geom_line() +\n",
    "  scale_x_continuous(breaks=K) +\n",
    "  xlab('Polynomial Degree') +\n",
    "  ylab('RMSE')"
   ]
  },
  {
   "cell_type": "markdown",
   "metadata": {},
   "source": [
    "Although the training error decreases as we increase the degree, the test error bottoms out at for a fifth degree polynomial.\n",
    "\n",
    "Let's re-fit this model on all of the data and plot the final result."
   ]
  },
  {
   "cell_type": "code",
   "execution_count": 56,
   "metadata": {},
   "outputs": [
    {
     "data": {
      "image/png": "[encoded data removed]",
      "text/plain": [
       "plot without title"
      ]
     },
     "metadata": {},
     "output_type": "display_data"
    }
   ],
   "source": [
    "model <- lm(num_trips ~ poly(tmin, 5, raw = T), data = trips_per_day_train)\n",
    "\n",
    "trips_per_day_train <- trips_per_day_train %>%\n",
    "  add_predictions(model) %>%\n",
    "  mutate(split = \"train\")\n",
    "trips_per_day_validate <- trips_per_day_validate %>%\n",
    "  add_predictions(model) %>%\n",
    "  mutate(split = \"validate\")\n",
    "plot_data <- bind_rows(trips_per_day_train, trips_per_day_validate)\n",
    "\n",
    "ggplot(plot_data, aes(x = tmin, y = num_trips)) +\n",
    "  geom_point(aes(color = split)) +\n",
    "  geom_line(aes(y = pred)) +\n",
    "  xlab('Minimum temperature') +\n",
    "  ylab('Daily trips') +\n",
    "  scale_y_continuous()"
   ]
  },
  {
   "cell_type": "markdown",
   "metadata": {},
   "source": [
    "We're done at this point, with one important exception.\n",
    "\n",
    "If we'd like to quote how well we expect this model to do on future data, we should use a final, held out test set that we touch only once to make this assessment.\n",
    "(Reusing the validation set would give an optimistic estimate, as our modeling process has already seen that data in the cross-validation process.)"
   ]
  },
  {
   "cell_type": "markdown",
   "metadata": {},
   "source": [
    "# K-fold cross-validation\n",
    "\n",
    "The downside to a single train / validation split as done above is that when we don't have tons of data, we could get lucky (or unlucky) in terms of which rows end up in the training and validation sets.\n",
    "\n",
    "k-fold cross-validation addresses this by first shuffling the data and then partitioning it into k \"folds\". The train / validation process is repeated, rotating through each fold as the validation data (and the rest as training data).\n",
    "This allows us to get a more stable estimate of generalization error, as well as some idea of uncertainty in that estimate.\n",
    "\n",
    "First we'll shuffle the data by sampling row numbers without replacement, then we'll assign each row to a fold."
   ]
  },
  {
   "cell_type": "code",
   "execution_count": 145,
   "metadata": {},
   "outputs": [
    {
     "name": "stderr",
     "output_type": "stream",
     "text": [
      "Warning message in RNGkind(sample.kind = \"Rounding\"):\n",
      "\"non-uniform 'Rounding' sampler used\""
     ]
    },
    {
     "data": {
      "text/html": [
       "<table>\n",
       "<thead><tr><th scope=col>ymd</th><th scope=col>num_trips</th><th scope=col>date</th><th scope=col>prcp</th><th scope=col>snwd</th><th scope=col>snow</th><th scope=col>tmax</th><th scope=col>tmin</th><th scope=col>fold</th></tr></thead>\n",
       "<tbody>\n",
       "\t<tr><td>2014-09-27</td><td>30463     </td><td>20140927  </td><td>0.00      </td><td>0         </td><td>0         </td><td>8.3       </td><td>6.0       </td><td>2         </td></tr>\n",
       "\t<tr><td>2014-04-23</td><td>26949     </td><td>20140423  </td><td>0.00      </td><td>0         </td><td>0         </td><td>6.1       </td><td>4.4       </td><td>3         </td></tr>\n",
       "\t<tr><td>2014-05-12</td><td>31644     </td><td>20140512  </td><td>0.00      </td><td>0         </td><td>0         </td><td>8.5       </td><td>6.4       </td><td>4         </td></tr>\n",
       "\t<tr><td>2014-06-13</td><td>18308     </td><td>20140613  </td><td>1.28      </td><td>0         </td><td>0         </td><td>7.9       </td><td>6.5       </td><td>5         </td></tr>\n",
       "\t<tr><td>2014-12-22</td><td>13120     </td><td>20141222  </td><td>0.04      </td><td>0         </td><td>0         </td><td>4.4       </td><td>3.5       </td><td>1         </td></tr>\n",
       "\t<tr><td>2014-07-30</td><td>37377     </td><td>20140730  </td><td>0.00      </td><td>0         </td><td>0         </td><td>8.0       </td><td>6.3       </td><td>2         </td></tr>\n",
       "</tbody>\n",
       "</table>\n"
      ],
      "text/latex": [
       "\\begin{tabular}{r|lllllllll}\n",
       " ymd & num\\_trips & date & prcp & snwd & snow & tmax & tmin & fold\\\\\n",
       "\\hline\n",
       "\t 2014-09-27 & 30463      & 20140927   & 0.00       & 0          & 0          & 8.3        & 6.0        & 2         \\\\\n",
       "\t 2014-04-23 & 26949      & 20140423   & 0.00       & 0          & 0          & 6.1        & 4.4        & 3         \\\\\n",
       "\t 2014-05-12 & 31644      & 20140512   & 0.00       & 0          & 0          & 8.5        & 6.4        & 4         \\\\\n",
       "\t 2014-06-13 & 18308      & 20140613   & 1.28       & 0          & 0          & 7.9        & 6.5        & 5         \\\\\n",
       "\t 2014-12-22 & 13120      & 20141222   & 0.04       & 0          & 0          & 4.4        & 3.5        & 1         \\\\\n",
       "\t 2014-07-30 & 37377      & 20140730   & 0.00       & 0          & 0          & 8.0        & 6.3        & 2         \\\\\n",
       "\\end{tabular}\n"
      ],
      "text/markdown": [
       "\n",
       "| ymd | num_trips | date | prcp | snwd | snow | tmax | tmin | fold |\n",
       "|---|---|---|---|---|---|---|---|---|\n",
       "| 2014-09-27 | 30463      | 20140927   | 0.00       | 0          | 0          | 8.3        | 6.0        | 2          |\n",
       "| 2014-04-23 | 26949      | 20140423   | 0.00       | 0          | 0          | 6.1        | 4.4        | 3          |\n",
       "| 2014-05-12 | 31644      | 20140512   | 0.00       | 0          | 0          | 8.5        | 6.4        | 4          |\n",
       "| 2014-06-13 | 18308      | 20140613   | 1.28       | 0          | 0          | 7.9        | 6.5        | 5          |\n",
       "| 2014-12-22 | 13120      | 20141222   | 0.04       | 0          | 0          | 4.4        | 3.5        | 1          |\n",
       "| 2014-07-30 | 37377      | 20140730   | 0.00       | 0          | 0          | 8.0        | 6.3        | 2          |\n",
       "\n"
      ],
      "text/plain": [
       "  ymd        num_trips date     prcp snwd snow tmax tmin fold\n",
       "1 2014-09-27 30463     20140927 0.00 0    0    8.3  6.0  2   \n",
       "2 2014-04-23 26949     20140423 0.00 0    0    6.1  4.4  3   \n",
       "3 2014-05-12 31644     20140512 0.00 0    0    8.5  6.4  4   \n",
       "4 2014-06-13 18308     20140613 1.28 0    0    7.9  6.5  5   \n",
       "5 2014-12-22 13120     20141222 0.04 0    0    4.4  3.5  1   \n",
       "6 2014-07-30 37377     20140730 0.00 0    0    8.0  6.3  2   "
      ]
     },
     "metadata": {},
     "output_type": "display_data"
    }
   ],
   "source": [
    "RNGkind(sample.kind = \"Rounding\")\n",
    "set.seed(42)\n",
    "num_folds <- 5\n",
    "num_days <- nrow(trips_per_day)\n",
    "\n",
    "ndx <- sample(1:num_days, num_train, replace=F)\n",
    "\n",
    "trips_per_day <- trips_per_day[ndx, ] %>%\n",
    "  mutate(fold = (row_number() %% num_folds) + 1)\n",
    "\n",
    "head(trips_per_day)"
   ]
  },
  {
   "cell_type": "markdown",
   "metadata": {},
   "source": [
    "Now we'll loop through each polynomial degree, as before, but add an inner loop over folds to compute the average validation error "
   ]
  },
  {
   "cell_type": "code",
   "execution_count": 146,
   "metadata": {},
   "outputs": [],
   "source": [
    "# fit a model for each polynomial degree\n",
    "K <- 1:8\n",
    "avg_validate_err <- c()\n",
    "se_validate_err <- c()\n",
    "for (k in K) {\n",
    "\n",
    "  # do 5-fold cross-validation within each value of k\n",
    "  validate_err <- c()\n",
    "  for (f in 1:num_folds) {\n",
    "    # fit on the training data\n",
    "    trips_per_day_train <- filter(trips_per_day, fold != f)\n",
    "    model <- lm(num_trips ~ poly(tmin, k, raw = T), data=trips_per_day_train)\n",
    "\n",
    "    # evaluate on the validation data\n",
    "    trips_per_day_validate <- filter(trips_per_day, fold == f)\n",
    "    validate_err[f] <- sqrt(mean((predict(model, trips_per_day_validate) - trips_per_day_validate$num_trips)^2))\n",
    "  }\n",
    "\n",
    "  # compute the average validation error across folds\n",
    "  # and the standard error on this estimate\n",
    "  avg_validate_err[k] <- mean(validate_err)\n",
    "  se_validate_err[k] <- sd(validate_err) / sqrt(num_folds)\n",
    "}"
   ]
  },
  {
   "cell_type": "markdown",
   "metadata": {},
   "source": [
    "And finally we'll plot the resulting average validation error as a function of polynomial degree."
   ]
  },
  {
   "cell_type": "code",
   "execution_count": 147,
   "metadata": {},
   "outputs": [
    {
     "data": {
      "image/png": "[encoded data removed]",
      "text/plain": [
       "plot without title"
      ]
     },
     "metadata": {},
     "output_type": "display_data"
    }
   ],
   "source": [
    "# plot the validate error, highlighting the value of k with the lowest average error\n",
    "plot_data <- data.frame(K, avg_validate_err, se_validate_err)\n",
    "ggplot(plot_data, aes(x=K, y=avg_validate_err)) +\n",
    "  geom_pointrange(aes(ymin=avg_validate_err - se_validate_err,\n",
    "                      ymax=avg_validate_err + se_validate_err,\n",
    "                      color=avg_validate_err == min(avg_validate_err))) +\n",
    "  geom_line(color = \"red\") +\n",
    "  scale_x_continuous(breaks=1:12) +\n",
    "  theme(legend.position=\"none\") +\n",
    "  xlab('Polynomial Degree') +\n",
    "  ylab('RMSE on validation data')"
   ]
  },
  {
   "cell_type": "markdown",
   "metadata": {},
   "source": [
    "Again, we see that a fifth degree polynomial is a reasonable choice, but we also see that there's a fair bit of uncertainty on our estimate.\n",
    "The gains mostly come from using a third degree polynomial or above."
   ]
  }
 ],
 "metadata": {
  "kernelspec": {
   "display_name": "R",
   "language": "R",
   "name": "ir"
  },
  "language_info": {
   "codemirror_mode": "r",
   "file_extension": ".r",
   "mimetype": "text/x-r-source",
   "name": "R",
   "pygments_lexer": "r",
   "version": "3.6.1"
  },
  "toc": {
   "colors": {
    "hover_highlight": "#DAA520",
    "running_highlight": "#FF0000",
    "selected_highlight": "#FFD700"
   },
   "moveMenuLeft": true,
   "nav_menu": {
    "height": "66px",
    "width": "252px"
   },
   "navigate_menu": true,
   "number_sections": true,
   "sideBar": true,
   "threshold": 4,
   "toc_cell": true,
   "toc_section_display": "block",
   "toc_window_display": false
  }
 },
 "nbformat": 4,
 "nbformat_minor": 2
}
